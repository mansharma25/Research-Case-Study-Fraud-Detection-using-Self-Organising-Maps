{
 "cells": [
  {
   "cell_type": "code",
   "execution_count": 2,
   "id": "8ba2d55d",
   "metadata": {},
   "outputs": [
    {
     "name": "stdout",
     "output_type": "stream",
     "text": [
      "Total frauds :612\n",
      "Right Prediction:57.51633986928104\n",
      "Percentage of frauds detected out of total actual frauds:91.90600522193212\n",
      "Percentage of fraud customers in population as claimed by prediction model:51.01449275362319\n",
      "Actual precentage of frauds out of total population:55.507246376811594\n",
      "Affected population(percentage of custormers who were not fraud but were predicted as fraud)):37.68115942028986\n"
     ]
    },
    {
     "data": {
      "image/png": "[encoded data removed]",
      "text/plain": [
       "<Figure size 432x288 with 2 Axes>"
      ]
     },
     "metadata": {
      "needs_background": "light"
     },
     "output_type": "display_data"
    }
   ],
   "source": [
    "import numpy as np\n",
    "import matplotlib.pyplot as plt\n",
    "import pandas as pd\n",
    "from numpy import *\n",
    "\n",
    "dataset = pd.read_csv(r'C:\\Manju\\Trierdocs\\Semester3\\CrediCardFraudDetectionApplicationNEW.csv')\n",
    "X = dataset.iloc[:, :-1].values\n",
    "y = dataset.iloc[:, -1].values\n",
    "\n",
    "from sklearn.preprocessing import MinMaxScaler\n",
    "sc = MinMaxScaler(feature_range = (0, 1))\n",
    "X = sc.fit_transform(X)\n",
    "\n",
    "from minisom import MiniSom\n",
    "som = MiniSom(x = 10, y = 10, input_len = 16, sigma = 1.0, learning_rate = 0.1, neighborhood_function = 'bubble')\n",
    "som.random_weights_init(X)\n",
    "som.train_random(data = X, num_iteration = 100)\n",
    "\n",
    "from pylab import bone, pcolor, colorbar\n",
    "bone()\n",
    "distance_map = som.distance_map().round(1)\n",
    "distance_map\n",
    "\n",
    "index = []\n",
    "for i in range(10):\n",
    "    for j in range(10):\n",
    "        if(distance_map[i,j]>=0.5):\n",
    "            index.append([i,j])\n",
    "len(index)\n",
    "\n",
    "pcolor(som.distance_map().T)\n",
    "colorbar() #gives legend\n",
    "\n",
    "mappings = som.win_map(X)\n",
    "mappings.keys()\n",
    "\n",
    "fraud_list = []\n",
    "sum = 0\n",
    "for x in index:\n",
    "    fraud_list.append(mappings[(x[0],x[1])])\n",
    "    sum = sum + len(mappings[(x[0],x[1])])\n",
    "sum\n",
    "\n",
    "frauds = []\n",
    "for x in fraud_list:\n",
    "    for y in x:\n",
    "        frauds.append(y)\n",
    "\n",
    "        \n",
    "fraud_array = np.asarray(frauds)\n",
    "fraud_inverse_transformed = sc.inverse_transform(frauds)\n",
    "\n",
    "\n",
    "count = 0\n",
    "fraud_id_list = []\n",
    "for x in fraud_inverse_transformed:\n",
    "    fraud_id_list.append(x[0])\n",
    "print('Total frauds :{}'.format(len(fraud_id_list)))\n",
    "\n",
    "count = 0\n",
    "right_prediction_index =[]\n",
    "wrong_prediction_index =[]\n",
    "for x in fraud_id_list:\n",
    "    for i,y in enumerate(dataset['CustomerID']):\n",
    "        if(x == y):\n",
    "            if(dataset['Class'][i] == 0):\n",
    "                count = count+1\n",
    "                right_prediction_index.append(i)\n",
    "            else:\n",
    "                wrong_prediction_index.append(i)\n",
    "                \n",
    "a = len(right_prediction_index)\n",
    "a\n",
    "\n",
    "b=len(wrong_prediction_index)\n",
    "b\n",
    "\n",
    "l = len(fraud_id_list)\n",
    "\n",
    "print('Right Prediction:{}'.format((a/l)*100))\n",
    "\n",
    "total_population = dataset.shape[0]\n",
    "total_actual_frauds  = dataset[dataset['Class'] == 0].shape[0]\n",
    "\n",
    "print('Percentage of frauds detected out of total actual frauds:{}'.format((a/total_actual_frauds)*100))\n",
    "print('Percentage of fraud customers in population as claimed by prediction model:{}'.format((a/total_population)*100))\n",
    "print('Actual precentage of frauds out of total population:{}'.format((total_actual_frauds/total_population)*100))\n",
    "print('Affected population(percentage of custormers who were not fraud but were predicted as fraud)):{}'.format((b/690)*100))"
   ]
  },
  {
   "cell_type": "code",
   "execution_count": null,
   "id": "0639d93b",
   "metadata": {},
   "outputs": [],
   "source": []
  }
 ],
 "metadata": {
  "kernelspec": {
   "display_name": "Python 3 (ipykernel)",
   "language": "python",
   "name": "python3"
  },
  "language_info": {
   "codemirror_mode": {
    "name": "ipython",
    "version": 3
   },
   "file_extension": ".py",
   "mimetype": "text/x-python",
   "name": "python",
   "nbconvert_exporter": "python",
   "pygments_lexer": "ipython3",
   "version": "3.7.1"
  }
 },
 "nbformat": 4,
 "nbformat_minor": 5
}
